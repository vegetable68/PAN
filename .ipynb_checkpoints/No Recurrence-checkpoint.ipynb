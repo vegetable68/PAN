{
 "cells": [
  {
   "cell_type": "code",
   "execution_count": 121,
   "metadata": {
    "collapsed": false
   },
   "outputs": [],
   "source": [
    "import numpy as np\n",
    "from collections import defaultdict\n",
    "import matplotlib.pyplot as plt\n",
    "import gzip\n",
    "import csv\n",
    "import math\n",
    "import json\n",
    "from sklearn import datasets, linear_model"
   ]
  },
  {
   "cell_type": "code",
   "execution_count": 2,
   "metadata": {
    "collapsed": false
   },
   "outputs": [
    {
     "name": "stdout",
     "output_type": "stream",
     "text": [
      "{'Name': 'his', 'Movie': '101954', 'Eid': '/m/0k4_tz', 'Agent_Words': 'leave_agent crash_agent lose_agent trade_agent find_agent manage_agent escape_agent return_agent be_agent seek_agent take_agent', 'Attribute_Words': '', 'Patient_Words': 'send_patient throw_patient kill_patient haunt_patient'}\n"
     ]
    }
   ],
   "source": [
    "characters = []\n",
    "words = {}\n",
    "char_dict = {}\n",
    "with gzip.open('../Character-Analysis/data/characters.csv.gz', 'rb') as f:\n",
    "     x = csv.DictReader(f)\n",
    "     for row in x:\n",
    "         characters.append(row)\n",
    "         key = row[\"Movie\"] + \"+++$$$+++\" + row[\"Name\"]\n",
    "         char_dict[key] = row[\"Eid\"]\n",
    "         words[row[\"Eid\"]] = ','.join([row[\"Agent_Words\"], row[\"Patient_Words\"], row[\"Attribute_Words\"]])\n",
    "         if row[\"Eid\"] == \"/m/0k4_tz\":\n",
    "            print row"
   ]
  },
  {
   "cell_type": "code",
   "execution_count": 187,
   "metadata": {
    "collapsed": false
   },
   "outputs": [],
   "source": [
    "trajectories = []\n",
    "others = []\n",
    "traj_dict = {}\n",
    "characters = []\n",
    "with open(\"models_same/trajectories.log12\") as f:\n",
    "    x = csv.DictReader(f)\n",
    "    first = True\n",
    "    topics = []\n",
    "    idx = 0\n",
    "    for line in x:\n",
    "        if first: \n",
    "            first = False\n",
    "            continue\n",
    "        idx += 1\n",
    "        trajs = [line[\"Topic \" + str(y)] for y in range(30)]\n",
    "        mov = line[\"Book\"]\n",
    "   #     key = mov + \"+++$$$+++\" + char_name\n",
    "        traj_dict[line[\"Char 1\"]] = np.array(trajs)\n",
    "   #     if not(char_dict[key][0] == 'e'):\n",
    "        trajectories.append(trajs)\n",
    "      #  characters.append(\"trajectories\": trajs, \"name\": line[\"Char 1\"], \"movie\": line[\"Movie\"])"
   ]
  },
  {
   "cell_type": "code",
   "execution_count": 160,
   "metadata": {
    "collapsed": false
   },
   "outputs": [
    {
     "name": "stdout",
     "output_type": "stream",
     "text": [
      "187529\n"
     ]
    }
   ],
   "source": [
    "print len(trajectories)"
   ]
  },
  {
   "cell_type": "code",
   "execution_count": 4,
   "metadata": {
    "collapsed": false
   },
   "outputs": [],
   "source": [
    "tropes = defaultdict(list)\n",
    "with open(\"../Character-Analysis/data/MovieSummaries/tvtropes.clusters.txt\") as f:\n",
    "    for line in f:\n",
    "        trope, char = line.split(\"\\t\")\n",
    "        tropes[trope].append(json.loads(char))"
   ]
  },
  {
   "cell_type": "code",
   "execution_count": 169,
   "metadata": {
    "collapsed": false
   },
   "outputs": [
    {
     "name": "stdout",
     "output_type": "stream",
     "text": [
      "('doormat', [{u'char': u'George McFly', u'movie': u'Back to the Future', u'id': u'/m/0jty5w', u'actor': u'Crispin Glover', 'trope': 'doormat'}, {u'char': u'Harry Dunne', u'movie': u'Dumb & Dumber', u'id': u'/m/0jxmxp', u'actor': u'Jeff Daniels', 'trope': 'doormat'}, {u'char': u'Belle', u'movie': u'Beauty and the Beast: The Enchanted Christmas', u'id': u'/m/0fprkm7', u'actor': u\"Paige O'Hara\", 'trope': 'doormat'}, {u'char': u'Stu Price', u'movie': u'The Hangover', u'id': u'/m/05srhg_', u'actor': u'Ed Helms', 'trope': 'doormat'}])\n"
     ]
    }
   ],
   "source": [
    "print tropes.items()[0]"
   ]
  },
  {
   "cell_type": "code",
   "execution_count": 5,
   "metadata": {
    "collapsed": false
   },
   "outputs": [],
   "source": [
    "data = []\n",
    "metadata = []\n",
    "for trope in tropes:\n",
    "    for char in tropes[trope]:\n",
    "        if char['id'] in traj_dict:\n",
    "            data.append(traj_dict[char['id']])\n",
    "            char['trope'] = trope\n",
    "            metadata.append(char)"
   ]
  },
  {
   "cell_type": "code",
   "execution_count": 6,
   "metadata": {
    "collapsed": false
   },
   "outputs": [],
   "source": [
    "with open(\"datafile\", \"wb\") as f:\n",
    "    f.write('\\n'.join(['\\t'.join(traj) for traj in data]))"
   ]
  },
  {
   "cell_type": "code",
   "execution_count": 7,
   "metadata": {
    "collapsed": false
   },
   "outputs": [
    {
     "ename": "UnicodeEncodeError",
     "evalue": "'ascii' codec can't encode character u'\\xa1' in position 5476: ordinal not in range(128)",
     "output_type": "error",
     "traceback": [
      "\u001b[0;31m---------------------------------------------------------\u001b[0m",
      "\u001b[0;31mUnicodeEncodeError\u001b[0m      Traceback (most recent call last)",
      "\u001b[0;32m<ipython-input-7-82e6fe2ff444>\u001b[0m in \u001b[0;36m<module>\u001b[0;34m()\u001b[0m\n\u001b[1;32m      1\u001b[0m \u001b[0;32mwith\u001b[0m \u001b[0mopen\u001b[0m\u001b[0;34m(\u001b[0m\u001b[0;34m\"metadatafile\"\u001b[0m\u001b[0;34m,\u001b[0m \u001b[0;34m\"wb\"\u001b[0m\u001b[0;34m)\u001b[0m \u001b[0;32mas\u001b[0m \u001b[0mf\u001b[0m\u001b[0;34m:\u001b[0m\u001b[0;34m\u001b[0m\u001b[0m\n\u001b[0;32m----> 2\u001b[0;31m     \u001b[0mf\u001b[0m\u001b[0;34m.\u001b[0m\u001b[0mwrite\u001b[0m\u001b[0;34m(\u001b[0m\u001b[0;34m'Name\\tTrope\\n'\u001b[0m \u001b[0;34m+\u001b[0m \u001b[0;34m'\\n'\u001b[0m\u001b[0;34m.\u001b[0m\u001b[0mjoin\u001b[0m\u001b[0;34m(\u001b[0m\u001b[0;34m[\u001b[0m\u001b[0mchar\u001b[0m\u001b[0;34m[\u001b[0m\u001b[0;34m'char'\u001b[0m\u001b[0;34m]\u001b[0m \u001b[0;34m+\u001b[0m \u001b[0;34m'#'\u001b[0m \u001b[0;34m+\u001b[0m \u001b[0mchar\u001b[0m\u001b[0;34m[\u001b[0m\u001b[0;34m'movie'\u001b[0m\u001b[0;34m]\u001b[0m \u001b[0;34m+\u001b[0m \u001b[0;34m'\\t'\u001b[0m \u001b[0;34m+\u001b[0m \u001b[0mchar\u001b[0m\u001b[0;34m[\u001b[0m\u001b[0;34m'trope'\u001b[0m\u001b[0;34m]\u001b[0m \u001b[0;32mfor\u001b[0m \u001b[0mchar\u001b[0m \u001b[0;32min\u001b[0m \u001b[0mmetadata\u001b[0m\u001b[0;34m]\u001b[0m\u001b[0;34m)\u001b[0m\u001b[0;34m)\u001b[0m\u001b[0;34m\u001b[0m\u001b[0m\n\u001b[0m",
      "\u001b[0;31mUnicodeEncodeError\u001b[0m: 'ascii' codec can't encode character u'\\xa1' in position 5476: ordinal not in range(128)"
     ]
    }
   ],
   "source": [
    "with open(\"metadatafile\", \"wb\") as f:\n",
    "    f.write('Name\\tTrope\\n' + '\\n'.join([char['char'] + '#' + char['movie'] + '\\t' + char['trope'] for char in metadata]))"
   ]
  },
  {
   "cell_type": "code",
   "execution_count": 190,
   "metadata": {
    "collapsed": false
   },
   "outputs": [
    {
     "name": "stdout",
     "output_type": "stream",
     "text": [
      "defaultdict(<type 'int'>, {'': 45609, 'M': 270257, 'F': 134803})\n"
     ]
    }
   ],
   "source": [
    "character_metadata = {}\n",
    "gender_cnt = defaultdict(int)\n",
    "with open(\"../Character-Analysis/data/MovieSummaries/character.metadata.tsv\", \"rb\") as f:\n",
    "    for row in f:\n",
    "        line = row.split('\\t')\n",
    "        eid = line[10]\n",
    "        gender = line[5]\n",
    "        ethnicity = line[7]\n",
    "        character_metadata[eid] = {\"Gender\": gender, \"Ethnicity\": ethnicity}\n",
    "        gender_cnt[gender] += 1\n",
    "print gender_cnt"
   ]
  },
  {
   "cell_type": "code",
   "execution_count": null,
   "metadata": {
    "collapsed": false
   },
   "outputs": [],
   "source": [
    "#Gender Pediction\n",
    "regr_x = []\n",
    "regr_y = []\n",
    "for char,val in character_metadata.items():\n",
    "    if (char in traj_dict) and not(val[\"Ethnicity\"] == ''):\n",
    "        regr_x.append(traj_dict[char])\n",
    "        regr_y.append(val[\"Ethnicity\"])"
   ]
  },
  {
   "cell_type": "code",
   "execution_count": 188,
   "metadata": {
    "collapsed": false
   },
   "outputs": [
    {
     "name": "stdout",
     "output_type": "stream",
     "text": [
      "72\n"
     ]
    }
   ],
   "source": [
    "#Trope Prediction\n",
    "regr_x = []\n",
    "regr_y = []\n",
    "for trope,charl in tropes.items():\n",
    "    if len(charl) < 10:\n",
    "        continue\n",
    "    for char in charl:\n",
    "        if (char[\"id\"] in traj_dict):# and not(val == ''):\n",
    "            regr_x.append(traj_dict[char[\"id\"]])\n",
    "            regr_y.append(trope)\n",
    "print len(tropes)"
   ]
  },
  {
   "cell_type": "code",
   "execution_count": null,
   "metadata": {
    "collapsed": false
   },
   "outputs": [
    {
     "name": "stderr",
     "output_type": "stream",
     "text": [
      "/usr/local/lib/python2.7/dist-packages/ipykernel/__main__.py:10: VisibleDeprecationWarning: using a non-integer number instead of an integer will result in an error in the future\n",
      "/usr/local/lib/python2.7/dist-packages/ipykernel/__main__.py:11: VisibleDeprecationWarning: using a non-integer number instead of an integer will result in an error in the future\n"
     ]
    }
   ],
   "source": [
    "total = len(regr_x)\n",
    "numbers = np.arange(total)\n",
    "np.random.shuffle(numbers)\n",
    "fold = 5\n",
    "split = 0\n",
    "x_fold = []\n",
    "y_fold = []\n",
    "for cur in range(fold):\n",
    "    nxt_split = min(len(regr_x), split + math.floor(total / fold))\n",
    "    x_fold.append([regr_x[n] for n in numbers[split:nxt_split]])\n",
    "    y_fold.append([regr_y[n] for n in numbers[split:nxt_split]])\n",
    "    split = nxt_split\n",
    "all_acc = 0\n",
    "for cur in range(fold):\n",
    "    x_train = [x for nx in range(fold) if not(nx == cur) for x in x_fold[nx]]\n",
    "    y_train = [y for n in range(fold) if not(n == cur) for y in y_fold[n]]\n",
    "    x_predict = [np.float32(x) for x in x_fold[cur]]\n",
    "    y_predict = y_fold[cur]\n",
    "    regr = linear_model.LogisticRegression()#class_weight='balanced')\n",
    "    regr.fit(x_train, y_train)\n",
    "    ans = regr.predict(x_predict)\n",
    "    acc = [ans[x] == y_predict[x] for x in range(len(ans))]\n",
    "    print ans[:5], y_predict[:5]\n",
    "    all_acc += float(len([x for x in acc if x])) / len(acc)\n",
    "   # print \n",
    "print split, total\n",
    "print all_acc / float(fold)"
   ]
  },
  {
   "cell_type": "code",
   "execution_count": 118,
   "metadata": {
    "collapsed": false
   },
   "outputs": [
    {
     "name": "stdout",
     "output_type": "stream",
     "text": [
      "[ True  True  True ..., False  True False]\n"
     ]
    }
   ],
   "source": [
    "ans = regr.predict(x_predict)\n",
    "print ans\n",
    "acc = [ans[x] == y_predict[x] for x in range(len(ans))]"
   ]
  },
  {
   "cell_type": "code",
   "execution_count": 119,
   "metadata": {
    "collapsed": false
   },
   "outputs": [
    {
     "name": "stdout",
     "output_type": "stream",
     "text": [
      "0.702388637831\n"
     ]
    }
   ],
   "source": [
    "print float(len([x for x in acc if x])) / len(acc)"
   ]
  },
  {
   "cell_type": "code",
   "execution_count": 120,
   "metadata": {
    "collapsed": false
   },
   "outputs": [
    {
     "data": {
      "text/plain": [
       "0.6445040041332989"
      ]
     },
     "execution_count": 120,
     "metadata": {},
     "output_type": "execute_result"
    }
   ],
   "source": [
    "float(len([x for x in y_train if x])) / len(y_train)"
   ]
  },
  {
   "cell_type": "code",
   "execution_count": 8,
   "metadata": {
    "collapsed": false
   },
   "outputs": [
    {
     "name": "stdout",
     "output_type": "stream",
     "text": [
      "man_attribute,woman_attribute,boy_attribute,girl_attribute,soldier_attribute,lady_attribute,officer_attribute,member_attribute,student_attribute,guy_attribute\n",
      "child_attribute,son_attribute,sister_attribute,brother_attribute,daughter_attribute,baby_attribute,parent_attribute,mother_attribute,boy_attribute,wife_attribute\n",
      "be_agent,angry_attribute,draw_agent,stand_agent,scream_agent,ask_patient,remind_agent,upset_patient,sail_agent,shout_agent\n",
      "boss_attribute,order_agent,mob_attribute,instruct_agent,demand_agent,detective_attribute,send_agent,police_attribute,corrupt_attribute,major_attribute\n",
      "baby_attribute,own_attribute,have_patient,younger_attribute,live_patient,twin_attribute,teenage_attribute,little_attribute,kidnap_patient,raise_patient\n",
      "take_patient,rescue_attribute,save_patient,protect_patient,raise_patient,search_patient,kidnap_patient,possess_patient,have_patient,bear_patient\n",
      "try_agent,fire_agent,chase_agent,throw_agent,proceed_agent,find_patient,win_agent,grab_agent,toss_agent,force_agent\n",
      "wealthy_attribute,businessman_attribute,rich_attribute,famous_attribute,business_attribute,elderly_attribute,childhood_attribute,former_attribute,new_attribute,aspiring_attribute\n",
      "go_agent,sure_attribute,grab_agent,annoyed_attribute,smile_agent,wake_patient,head_agent,worried_attribute,sit_agent,scared_attribute\n",
      "win_agent,play_agent,fail_agent,kick_patient,player_attribute,best_attribute,hit_agent,school_attribute,start_agent,good_attribute\n",
      "beautiful_attribute,woman_attribute,daughter_attribute,girl_attribute,wife_attribute,girlfriend_attribute,propose_patient,fall_patient,pregnant_attribute,marry_patient\n",
      "young_attribute,old_attribute,mysterious_attribute,character_attribute,attractive_attribute,main_attribute,high_attribute,white_attribute,revolve_patient,elderly_attribute\n",
      "mother_attribute,father_attribute,wife_attribute,parent_attribute,husband_attribute,uncle_attribute,grandmother_attribute,younger_attribute,aunt_attribute,older_attribute\n",
      "pop_agent,slam_agent,grab_agent,lift_agent,launch_patient,crawl_agent,dive_agent,jump_agent,wake_patient,grab_patient\n",
      "die_agent,wife_attribute,sister_attribute,live_patient,mother_attribute,suffer_agent,murder_patient,rape_patient,pregnant_attribute,ill_attribute\n",
      "kill_patient,killer_attribute,gang_attribute,commit_agent,murder_agent,evil_attribute,wound_patient,injure_agent,escape_patient,strangle_agent\n",
      "investigate_agent,detective_attribute,private_attribute,assign_patient,locate_agent,investigator_attribute,deduce_agent,order_patient,promote_patient,summon_patient\n",
      "tell_patient,worried_attribute,miss_agent,wake_patient,hers_attribute,heartbroken_attribute,explain_agent,dance_patient,wish_patient,sick_attribute\n",
      "young_attribute,orphan_attribute,decide_agent,raise_patient,adopt_patient,befriend_agent,poor_attribute,marry_agent,fall_patient,talented_attribute\n",
      "friend_attribute,boyfriend_attribute,student_attribute,member_attribute,partner_attribute,high_attribute,teacher_attribute,girlfriend_attribute,sweetheart_attribute,guy_attribute\n",
      "take_agent,furious_attribute,sentence_patient,stop_patient,punch_agent,fire_agent,angry_attribute,plan_agent,arrest_patient,beat_agent\n",
      "tell_agent,annoy_patient,reply_agent,explain_agent,write_patient,worry_patient,worried_attribute,walk_patient,late_attribute,say_patient\n",
      "leave_agent,forgive_patient,assume_agent,introduce_agent,afraid_attribute,let_patient,help_patient,sit_patient,next_attribute,suspect_agent\n",
      "serial_attribute,drug_attribute,dealer_attribute,ambush_agent,vampire_attribute,guard_attribute,corrupt_attribute,killer_attribute,henchman_attribute,assassin_attribute\n",
      "find_agent,spot_agent,horrify_patient,encounter_agent,evade_agent,panic_agent,detective_attribute,able_attribute,warn_patient,private_attribute\n",
      "have_agent,worry_patient,forgive_patient,throw_patient,fail_agent,perform_agent,apologize_agent,follow_agent,buy_agent,continue_agent\n",
      "capture_patient,free_patient,defeat_agent,imprison_patient,defeat_patient,rescue_attribute,destroy_agent,fly_patient,rescue_patient,recapture_patient\n",
      "school_attribute,high_attribute,former_attribute,police_attribute,college_attribute,fellow_attribute,female_attribute,other_attribute,teacher_attribute,character_attribute\n",
      "same_attribute,older_attribute,dead_attribute,rich_attribute,innocent_attribute,murder_patient,younger_attribute,abusive_attribute,biological_attribute,elder_attribute\n",
      "happy_attribute,reassure_patient,worried_attribute,upset_attribute,hurt_patient,sing_patient,worry_patient,pack_agent,sad_attribute,disappoint_patient\n"
     ]
    }
   ],
   "source": [
    "descriptors = []\n",
    "with open(\"models/descriptors.log14\") as f:\n",
    "    for line in f:\n",
    "        descriptors.append(line.split())\n",
    "    idx = 0\n",
    "    for dcpt in descriptors:\n",
    "        print \",\".join(dcpt)\n",
    "        idx += 1"
   ]
  },
  {
   "cell_type": "code",
   "execution_count": 9,
   "metadata": {
    "collapsed": false
   },
   "outputs": [],
   "source": [
    "cnt = []\n",
    "for x in range(30):\n",
    "    cnt.append(0)\n",
    "for traj in trajectories:\n",
    "    cnt[np.argmax(traj)] += 1\n",
    "    idx += 1\n",
    "    if np.argmax(traj) == 30:\n",
    "        print idx\n",
    "        #print trajectories.index(traj)"
   ]
  },
  {
   "cell_type": "code",
   "execution_count": 316,
   "metadata": {
    "collapsed": false
   },
   "outputs": [],
   "source": [
    "s = np.sum(cnt)\n",
    "print s\n",
    "print cnt\n",
    "print cnt / s"
   ]
  },
  {
   "cell_type": "code",
   "execution_count": 319,
   "metadata": {
    "collapsed": false
   },
   "outputs": [
    {
     "data": {
      "image/png": "[encoded data removed]",
      "text/plain": [
       "<matplotlib.figure.Figure at 0x7fe367a4c310>"
      ]
     },
     "metadata": {},
     "output_type": "display_data"
    }
   ],
   "source": [
    "plt.bar(range(30), [float(x) / s for x in cnt])\n",
    "plt.show()\n"
   ]
  },
  {
   "cell_type": "code",
   "execution_count": 10,
   "metadata": {
    "collapsed": false
   },
   "outputs": [
    {
     "name": "stdout",
     "output_type": "stream",
     "text": [
      "25:have_agent\tworry_patient\tforgive_patient\tthrow_patient\tfail_agent\tperform_agent\tapologize_agent\tfollow_agent\tbuy_agent\tcontinue_agent\n",
      "\n",
      "29:happy_attribute\treassure_patient\tworried_attribute\tupset_attribute\thurt_patient\tsing_patient\tworry_patient\tpack_agent\tsad_attribute\tdisappoint_patient\n",
      "\n",
      "8:go_agent\tsure_attribute\tgrab_agent\tannoyed_attribute\tsmile_agent\twake_patient\thead_agent\tworried_attribute\tsit_agent\tscared_attribute\n",
      "\n",
      "13:pop_agent\tslam_agent\tgrab_agent\tlift_agent\tlaunch_patient\tcrawl_agent\tdive_agent\tjump_agent\twake_patient\tgrab_patient\n",
      "\n",
      "16:investigate_agent\tdetective_attribute\tprivate_attribute\tassign_patient\tlocate_agent\tinvestigator_attribute\tdeduce_agent\torder_patient\tpromote_patient\tsummon_patient\n",
      "\n",
      "7:wealthy_attribute\tbusinessman_attribute\trich_attribute\tfamous_attribute\tbusiness_attribute\telderly_attribute\tchildhood_attribute\tformer_attribute\tnew_attribute\taspiring_attribute\n",
      "\n",
      "23:serial_attribute\tdrug_attribute\tdealer_attribute\tambush_agent\tvampire_attribute\tguard_attribute\tcorrupt_attribute\tkiller_attribute\thenchman_attribute\tassassin_attribute\n",
      "\n",
      "2:be_agent\tangry_attribute\tdraw_agent\tstand_agent\tscream_agent\task_patient\tremind_agent\tupset_patient\tsail_agent\tshout_agent\n",
      "\n",
      "3:boss_attribute\torder_agent\tmob_attribute\tinstruct_agent\tdemand_agent\tdetective_attribute\tsend_agent\tpolice_attribute\tcorrupt_attribute\tmajor_attribute\n",
      "\n",
      "4:baby_attribute\town_attribute\thave_patient\tyounger_attribute\tlive_patient\ttwin_attribute\tteenage_attribute\tlittle_attribute\tkidnap_patient\traise_patient\n",
      "\n",
      "21:tell_agent\tannoy_patient\treply_agent\texplain_agent\twrite_patient\tworry_patient\tworried_attribute\twalk_patient\tlate_attribute\tsay_patient\n",
      "\n",
      "18:young_attribute\torphan_attribute\tdecide_agent\traise_patient\tadopt_patient\tbefriend_agent\tpoor_attribute\tmarry_agent\tfall_patient\ttalented_attribute\n",
      "\n",
      "10:beautiful_attribute\twoman_attribute\tdaughter_attribute\tgirl_attribute\twife_attribute\tgirlfriend_attribute\tpropose_patient\tfall_patient\tpregnant_attribute\tmarry_patient\n",
      "\n",
      "1:child_attribute\tson_attribute\tsister_attribute\tbrother_attribute\tdaughter_attribute\tbaby_attribute\tparent_attribute\tmother_attribute\tboy_attribute\twife_attribute\n",
      "\n",
      "0:man_attribute\twoman_attribute\tboy_attribute\tgirl_attribute\tsoldier_attribute\tlady_attribute\tofficer_attribute\tmember_attribute\tstudent_attribute\tguy_attribute\n",
      "\n",
      "5:take_patient\trescue_attribute\tsave_patient\tprotect_patient\traise_patient\tsearch_patient\tkidnap_patient\tpossess_patient\thave_patient\tbear_patient\n",
      "\n",
      "20:take_agent\tfurious_attribute\tsentence_patient\tstop_patient\tpunch_agent\tfire_agent\tangry_attribute\tplan_agent\tarrest_patient\tbeat_agent\n",
      "\n",
      "24:find_agent\tspot_agent\thorrify_patient\tencounter_agent\tevade_agent\tpanic_agent\tdetective_attribute\table_attribute\twarn_patient\tprivate_attribute\n",
      "\n",
      "12:mother_attribute\tfather_attribute\twife_attribute\tparent_attribute\thusband_attribute\tuncle_attribute\tgrandmother_attribute\tyounger_attribute\taunt_attribute\tolder_attribute\n",
      "\n",
      "15:kill_patient\tkiller_attribute\tgang_attribute\tcommit_agent\tmurder_agent\tevil_attribute\twound_patient\tinjure_agent\tescape_patient\tstrangle_agent\n",
      "\n",
      "14:die_agent\twife_attribute\tsister_attribute\tlive_patient\tmother_attribute\tsuffer_agent\tmurder_patient\trape_patient\tpregnant_attribute\till_attribute\n",
      "\n",
      "19:friend_attribute\tboyfriend_attribute\tstudent_attribute\tmember_attribute\tpartner_attribute\thigh_attribute\tteacher_attribute\tgirlfriend_attribute\tsweetheart_attribute\tguy_attribute\n",
      "\n",
      "26:capture_patient\tfree_patient\tdefeat_agent\timprison_patient\tdefeat_patient\trescue_attribute\tdestroy_agent\tfly_patient\trescue_patient\trecapture_patient\n",
      "\n",
      "27:school_attribute\thigh_attribute\tformer_attribute\tpolice_attribute\tcollege_attribute\tfellow_attribute\tfemale_attribute\tother_attribute\tteacher_attribute\tcharacter_attribute\n",
      "\n",
      "11:young_attribute\told_attribute\tmysterious_attribute\tcharacter_attribute\tattractive_attribute\tmain_attribute\thigh_attribute\twhite_attribute\trevolve_patient\telderly_attribute\n",
      "\n",
      "28:same_attribute\tolder_attribute\tdead_attribute\trich_attribute\tinnocent_attribute\tmurder_patient\tyounger_attribute\tabusive_attribute\tbiological_attribute\telder_attribute\n",
      "\n",
      "17:tell_patient\tworried_attribute\tmiss_agent\twake_patient\thers_attribute\theartbroken_attribute\texplain_agent\tdance_patient\twish_patient\tsick_attribute\n",
      "\n",
      "9:win_agent\tplay_agent\tfail_agent\tkick_patient\tplayer_attribute\tbest_attribute\thit_agent\tschool_attribute\tstart_agent\tgood_attribute\n",
      "\n",
      "6:try_agent\tfire_agent\tchase_agent\tthrow_agent\tproceed_agent\tfind_patient\twin_agent\tgrab_agent\ttoss_agent\tforce_agent\n",
      "\n",
      "22:leave_agent\tforgive_patient\tassume_agent\tintroduce_agent\tafraid_attribute\tlet_patient\thelp_patient\tsit_patient\tnext_attribute\tsuspect_agent\n"
     ]
    }
   ],
   "source": [
    "print '\\n\\n'.join([str(x) + ':' + '\\t'.join(descriptors[x]) for x in np.argsort(cnt)[::-1]])"
   ]
  },
  {
   "cell_type": "code",
   "execution_count": 164,
   "metadata": {
    "collapsed": false
   },
   "outputs": [
    {
     "data": {
      "image/png": "[encoded data removed]",
      "text/plain": [
       "<matplotlib.figure.Figure at 0x7fe35c345350>"
      ]
     },
     "metadata": {},
     "output_type": "display_data"
    },
    {
     "name": "stdout",
     "output_type": "stream",
     "text": [
      "state_agent\tapologize_agent\tassure_agent\tsurprised_attribute\tremind_patient\tsurprise_patient\treassure_agent\tdecline_agent\tadmit_agent\tannoy_patient\n",
      "\n",
      "pop_agent\tbite_agent\tchase_agent\tslam_agent\tgrab_agent\tlaunch_patient\tknock_patient\timpale_agent\ttie_agent\tcrawl_agent\n",
      "\n",
      "beautiful_attribute\tpropose_patient\tfall_patient\twoo_patient\tpregnant_attribute\tmarry_patient\tdaughter_attribute\twidow_attribute\tlove_patient\tgirl_attribute\n",
      "\n",
      "corrupt_attribute\tchief_attribute\tcrime_attribute\tleader_attribute\tcommander_attribute\tmajor_attribute\tlord_attribute\tboss_attribute\tgangster_attribute\truthless_attribute\n",
      "\n",
      "young_attribute\tmain_attribute\telderly_attribute\tmysterious_attribute\tpoor_attribute\tcharacter_attribute\twhite_attribute\tmiddle-aged_attribute\told_attribute\tattractive_attribute\n",
      "\n",
      "man_attribute\twoman_attribute\tboy_attribute\tgirl_attribute\tlady_attribute\tsoldier_attribute\tmember_attribute\tstudent_attribute\tkid_attribute\tcharacter_attribute\n",
      "\n",
      "kill_patient\tkiller_attribute\tevil_attribute\tgang_attribute\tmurder_agent\tdrug_attribute\tescape_patient\tvampire_attribute\tserial_attribute\tdealer_attribute\n",
      "\n",
      "brother_attribute\tsister_attribute\tson_attribute\tchild_attribute\tdaughter_attribute\tparent_attribute\tmother_attribute\tbaby_attribute\tfather_attribute\twife_attribute\n",
      "\n",
      "tell_patient\tinvestigate_agent\tdetective_attribute\tprivate_attribute\tdiscover_agent\tencounter_agent\tattack_patient\tinvestigator_attribute\thorrify_patient\tawaken_patient\n",
      "\n",
      "tell_agent\texplain_agent\thear_patient\tannoy_patient\tdecline_agent\tdeny_agent\tworried_attribute\tconfirm_agent\treply_agent\twait_agent\n",
      "\n",
      "find_agent\thorrify_patient\tapproach_patient\tspot_agent\tdetective_attribute\tencounter_agent\tattend_agent\trent_agent\toffer_patient\tprivate_attribute\n",
      "\n",
      "father_attribute\tmother_attribute\twife_attribute\thusband_attribute\tboss_attribute\tuncle_attribute\tparent_attribute\tdoctor_attribute\torder_agent\tspeak_agent\n",
      "\n",
      "be_agent\tstand_agent\task_patient\tremind_agent\tscream_agent\tangry_attribute\tdraw_agent\ttalk_patient\tupset_patient\tlove_agent\n",
      "\n",
      "have_agent\tforgive_patient\tfall_agent\tperform_agent\tworry_patient\ttalk_patient\tarrange_agent\tapologize_agent\tjealous_attribute\tflirt_patient\n",
      "\n",
      "friend_attribute\tboyfriend_attribute\tstudent_attribute\tmember_attribute\tgirlfriend_attribute\tsweetheart_attribute\tteacher_attribute\tpartner_attribute\tguy_attribute\thigh_attribute\n",
      "\n",
      "take_patient\thave_patient\tbear_patient\traise_patient\trescue_attribute\town_attribute\tprotect_patient\tteenage_attribute\tonly_attribute\tsave_patient\n",
      "\n",
      "go_agent\tsure_attribute\tannoyed_attribute\tsurprise_patient\thead_agent\twarn_patient\tdetective_attribute\tsuspicious_attribute\tapproach_patient\tsmile_agent\n",
      "\n",
      "former_attribute\tnew_attribute\tlocal_attribute\tschool_attribute\tfellow_attribute\tother_attribute\tfemale_attribute\thigh_attribute\twho_attribute\tcollege_attribute\n",
      "\n",
      "leave_agent\tintroduce_agent\tdecline_agent\tparent_attribute\tinform_agent\tdiscuss_agent\texplain_agent\tpay_agent\treceive_patient\tassume_agent\n",
      "\n",
      "wake_patient\tyell_agent\tscared_attribute\tworried_attribute\tscare_patient\tsmile_agent\tscream_agent\tyell_patient\tsit_agent\tpop_agent\n",
      "\n",
      "meet_agent\tbest_attribute\tclose_attribute\tchildhood_attribute\tcollege_attribute\twriter_attribute\treporter_attribute\tfamily_attribute\told_attribute\thigh_attribute\n",
      "\n",
      "capture_patient\trescue_attribute\tfree_patient\trescue_patient\tkidnap_patient\tfly_patient\tsave_patient\trecapture_patient\thostage_attribute\timprison_patient\n",
      "\n",
      "own_attribute\tlive_patient\tdie_agent\tmurder_patient\trape_patient\tyounger_attribute\tsecond_attribute\ts_attribute\tbear_patient\tbiological_attribute\n",
      "\n",
      "take_agent\tlocate_agent\tinvestigate_agent\tdeduce_agent\tassign_patient\tdefeat_agent\ttravel_agent\tdetective_attribute\tprivate_attribute\tpromote_patient\n",
      "\n",
      "try_agent\tchase_agent\tfire_agent\tgrab_agent\tfind_patient\tabout_attribute\tguard_attribute\ttoss_agent\tfight_patient\twin_agent\n",
      "\n",
      "earn_agent\toffer_patient\tget_agent\tstruggle_agent\treject_patient\tinvite_patient\tdepressed_attribute\tspend_agent\tquit_agent\twin_agent\n",
      "\n",
      "police_attribute\tofficer_attribute\tdecide_agent\tdetective_attribute\tbeat_agent\tcop_attribute\tmarry_agent\tshoot_agent\tshoot_patient\tarrest_agent\n",
      "\n",
      "girl_attribute\tlocal_attribute\tschool_attribute\tbrother_attribute\tchild_attribute\tother_attribute\tsister_attribute\tfriend_attribute\twoman_attribute\tkiller_attribute\n",
      "\n",
      "take_agent\tolder_attribute\tsleep_patient\tjealous_attribute\tsame_attribute\tboss_attribute\tgreet_agent\tcrazy_attribute\told_attribute\tviolent_attribute\n",
      "\n",
      "younger_attribute\tolder_attribute\telder_attribute\trich_attribute\ttwin_attribute\tchildhood_attribute\tyoungest_attribute\town_attribute\teldest_attribute\tunite_patient\n"
     ]
    }
   ],
   "source": [
    "plt.bar(range(30), [float(x) / s for x in cnt])\n",
    "plt.show()\n",
    "print '\\n\\n'.join(['\\t'.join(descriptors[x]) for x in np.argsort(cnt)[::-1]])"
   ]
  },
  {
   "cell_type": "code",
   "execution_count": 208,
   "metadata": {
    "collapsed": false
   },
   "outputs": [
    {
     "name": "stdout",
     "output_type": "stream",
     "text": [
      "{u'char': u'George McFly', u'movie': u'Back to the Future', u'id': u'/m/0jty5w', u'actor': u'Crispin Glover'}\n"
     ]
    }
   ],
   "source": [
    "print tropes[\"doormat\"][0]"
   ]
  },
  {
   "cell_type": "code",
   "execution_count": 211,
   "metadata": {
    "collapsed": true
   },
   "outputs": [],
   "source": [
    "selected = [trope for trope in tropes if len(tropes[trope]) > 10]\n",
    "selected = [\"master_swordsman\", \"dumb_blonde\"]"
   ]
  },
  {
   "cell_type": "code",
   "execution_count": 281,
   "metadata": {
    "collapsed": false
   },
   "outputs": [
    {
     "name": "stdout",
     "output_type": "stream",
     "text": [
      "['kill_patient', 'killer_attribute', 'gang_attribute', 'evil_attribute', 'murder_agent', 'escape_patient', 'wound_patient', 'kidnap_agent', 'drug_attribute', 'commit_agent']\n"
     ]
    }
   ],
   "source": [
    "x = 7\n",
    "print descriptors[12]"
   ]
  },
  {
   "cell_type": "code",
   "execution_count": 268,
   "metadata": {
    "collapsed": false
   },
   "outputs": [
    {
     "name": "stdout",
     "output_type": "stream",
     "text": [
      "master_swordsman\n",
      "{u'char': u'Qui-Gon Jinn', u'movie': u'Star Wars Episode I: The Phantom Menace', u'id': u'/m/0k3qyf', u'actor': u'Liam Neeson'}\n",
      "save_agent ask_agent inform_agent make_agent,,unable_attribute\n",
      "[24  4 11 21 25]\n",
      "[0.0781866, 0.0667295, 0.0519794, 0.0499724, 0.046914]\n",
      "\n",
      "\n",
      "{u'char': u'Obi-Wan Kenobi', u'movie': u'Star Wars Episode I: The Phantom Menace', u'id': u'/m/0k3qy3', u'actor': u'Ewan McGregor'}\n",
      "defeat_agent engage_agent,be_patient engage_patient,\n",
      "[24 10 28  1 11]\n",
      "[0.074721, 0.0605244, 0.0574604, 0.0570489, 0.0540437]\n",
      "\n",
      "\n",
      "{u'char': u'Darth Vader', u'movie': u'Star Wars Episode V: The Empire Strikes Back', u'id': u'/m/02nwtmm', u'actor': u'James Earl Jones'}\n",
      "turn_agent use_agent send_agent engage_agent intend_agent plan_agent give_agent select_agent reveal_agent,,\n",
      "[ 1 24 26  4  7]\n",
      "[0.176809, 0.0937719, 0.0695688, 0.0555078, 0.0531113]\n",
      "\n",
      "\n",
      "{u'char': u'Inigo Montoya', u'movie': u'The Princess Bride', u'id': u'/m/0k65z5', u'actor': u'Mandy Patinkin'}\n",
      "hear_agent decide_agent find_agent manage_agent invade_agent meet_agent follow_agent arrive_agent,defeat_patient name_patient,able_attribute\n",
      "[24  7 15 28 10]\n",
      "[0.117734, 0.0972955, 0.0931046, 0.0784862, 0.0733574]\n",
      "\n",
      "\n",
      "{u'char': u'Bill', u'movie': u'Kill Bill Volume 1', u'id': u'/m/0j_fvv', u'actor': u'David Carradine'}\n",
      "shoot_agent interrupt_agent attack_agent ask_agent,tell_patient employ_patient reveal_patient,\n",
      "[ 7 25  1 18  4]\n",
      "[0.0871944, 0.0738685, 0.0707984, 0.065661, 0.0604242]\n",
      "\n",
      "\n",
      "{u'char': u'Archibald Cunningham', u'movie': u'Rob Roy', u'id': u'/m/0k2ltj', u'actor': u'Tim Roth'}\n",
      "kill_agent capture_agent present_agent steal_agent,hunt_patient,one_attribute\n",
      "[ 1 24  7 27 18]\n",
      "[0.0866626, 0.0772762, 0.0656943, 0.0628596, 0.0595328]\n",
      "\n",
      "\n",
      "{u'char': u'Madmartigan', u'movie': u'Willow', u'id': u'/m/0k8378', u'actor': u'Val Kilmer'}\n",
      "develop_agent prepare_agent offer_agent,expose_patient steal_patient,\n",
      "[ 1 28 21 10  0]\n",
      "[0.0943022, 0.063215, 0.0545966, 0.0500152, 0.0494707]\n",
      "\n",
      "\n",
      "{u'char': u'Nameless', u'movie': u'Hero', u'id': u'/m/0jzcr5', u'actor': u'Jet Li'}\n",
      "choose_agent recount_agent receive_agent tell_agent set_agent spare_agent abandon_agent realize_agent sit_agent,defend_patient tell_patient slay_patient kill_patient toss_patient,\n",
      "[29 12 25 21 24]\n",
      "[0.12139, 0.0925683, 0.0924395, 0.0620135, 0.0572813]\n",
      "\n",
      "\n",
      "{u'char': u'Broken Sword', u'movie': u'Hero', u'id': u'/m/0jzcrb', u'actor': u'Tony Leung Chiu Wai'}\n",
      "explain_agent give_agent,toss_patient arrive_patient meet_patient,\n",
      "[ 4  5  6 26 24]\n",
      "[0.075272, 0.0630767, 0.0614188, 0.0587899, 0.0563435]\n",
      "\n",
      "\n",
      "{u'char': u'Aragorn', u'movie': u'The Lord of the Rings: The Return of the King', u'id': u'/m/0k5scp', u'actor': u'Viggo Mortensen'}\n",
      "free_agent assemble_agent lead_agent arrive_agent,inform_patient confess_patient give_patient reunite_patient,\n",
      "[24 28 25 10  5]\n",
      "[0.138643, 0.0766556, 0.0739452, 0.0715687, 0.0646517]\n",
      "\n",
      "\n",
      "{u'char': u'Blade', u'movie': u'Blade', u'id': u'/m/0jvh78', u'actor': u'Wesley Snipes'}\n",
      "leave_agent explore_agent come_agent warn_agent rescue_agent escape_agent take_agent locate_agent,free_patient kill_patient,unable_attribute hunter_attribute\n",
      "[12 24  7 28 25]\n",
      "[0.150011, 0.118279, 0.0806107, 0.0753173, 0.0729263]\n",
      "\n",
      "\n",
      "{u'char': u'He-Man', u'movie': u'Masters of the Universe', u'id': u'/m/0k0h9d', u'actor': u'Dolph Lundgren'}\n",
      "rescue_agent attack_agent lose_agent engage_agent,,veteran_attribute soldier_attribute\n",
      "[ 1 24 21 28  2]\n",
      "[0.0960106, 0.0852093, 0.0817685, 0.0741651, 0.0706369]\n",
      "\n",
      "\n",
      "dumb_blonde\n",
      "{u'char': u'Kitty Packard', u'movie': u'Dinner at Eight', u'id': u'/m/0jx9zj', u'actor': u'Jean Harlow'}\n",
      "have_agent visit_agent reveal_agent accept_agent tell_agent,treat_patient,ambitious_attribute\n",
      "[29 20 21 10 16]\n",
      "[0.104258, 0.0851581, 0.0588923, 0.0583839, 0.0562759]\n",
      "\n",
      "\n",
      "{u'char': u'Cindy Campbell', u'movie': u'Scary Movie 4', u'id': u'/m/0k2y_7', u'actor': u'Anna Faris'}\n",
      "have_agent plead_agent try_agent encounter_agent reunite_agent remember_agent manage_agent run_agent confide_agent do_agent miss_agent find_agent stay_agent realize_agent get_agent,save_patient explain_patient hit_patient kill_patient throw_patient,about_attribute\n",
      "[ 7 28 21 17 11]\n",
      "[0.0990818, 0.0955518, 0.0637504, 0.058602, 0.0567681]\n",
      "\n",
      "\n",
      "{u'char': u'Cindy Campbell', u'movie': u'Scary Movie 3', u'id': u'/m/0k2z05', u'actor': u'Anna Faris'}\n",
      "call_agent have_agent try_agent encounter_agent decide_agent want_agent keep_agent announce_agent offer_agent discover_agent find_agent reply_agent manage_agent watch_agent realize_agent get_agent,interrupt_patient invite_patient play_patient marry_patient appear_patient kill_patient,\n",
      "[ 4  7 21 10 15]\n",
      "[0.113053, 0.0983258, 0.0950646, 0.0754074, 0.0738021]\n",
      "\n",
      "\n",
      "{u'char': u'Brandi', u'movie': u'Observe and Report', u'id': u'/m/059sp8v', u'actor': u'Anna Faris'}\n",
      "consume_agent take_agent,try_patient approach_patient confront_patient,girl_attribute\n",
      "[14  6 16  7 21]\n",
      "[0.0989827, 0.0818016, 0.0567708, 0.0500873, 0.0452906]\n",
      "\n",
      "\n",
      "{u'char': u'Pola Debevoise', u'movie': u'How to Marry a Millionaire', u'id': u'/m/0jzmyb', u'actor': u'Marilyn Monroe'}\n",
      "love_agent fall_agent manage_agent end_agent take_agent think_agent rent_agent put_agent sit_agent,see_patient reunite_patient,unable_attribute hers_attribute\n",
      "[17 14  7 10 21]\n",
      "[0.111372, 0.0816967, 0.0726567, 0.0700639, 0.0698024]\n",
      "\n",
      "\n",
      "{u'char': u'Romy White', u'movie': u\"Romy and Michele's High School Reunion\", u'id': u'/m/0k2p5c', u'actor': u'Mira Sorvino'}\n",
      "exit_agent call_agent have_agent be_agent say_agent dance_agent win_agent work_agent tell_agent invent_agent run_agent begin_agent give_agent plan_agent ride_agent die_agent think_agent ask_agent feel_agent wait_agent,humiliate_patient try_patient tell_patient pick_patient promise_patient defend_patient ask_patient wait_patient turn_patient convince_patient call_patient,sick_attribute\n",
      "[ 4 10 17 20 29]\n",
      "[0.1485, 0.117264, 0.112566, 0.0678579, 0.0604502]\n",
      "\n",
      "\n",
      "{u'char': u'Michele Weinberger', u'movie': u\"Romy and Michele's High School Reunion\", u'id': u'/m/0k2p5j', u'actor': u'Lisa Kudrow'}\n",
      "wake_agent have_agent look_agent decide_agent ignore_agent win_agent escort_agent find_agent invent_agent attempt_agent go_agent feel_agent discover_agent make_agent say_agent come_agent talk_agent convince_agent realize_agent remark_agent,talk_patient dance_patient approach_patient run_patient apologize_patient hit_patient congratulate_patient,unemployed_attribute person_attribute successful_attribute\n",
      "[ 4 10  7 20 16]\n",
      "[0.15555, 0.101374, 0.0974487, 0.0754843, 0.0748649]\n",
      "\n",
      "\n",
      "{u'char': u'Suzanne Stone Maretto', u'movie': u'To Die For', u'id': u'/m/0k75t3', u'actor': u'Nicole Kidman'}\n",
      "seduce_agent be_agent walk_agent begin_agent describe_agent take_agent get_agent reveal_agent,lure_patient bury_patient love_patient,hand_attribute\n",
      "[ 9 14  7  4  6]\n",
      "[0.100645, 0.0919699, 0.0836061, 0.0640143, 0.0620388]\n",
      "\n",
      "\n",
      "{u'char': u'Rocky Horror - A Creation', u'movie': u'The Rocky Horror Picture Show', u'id': u'/m/02tb6wq', u'actor': u'Peter Hinwood'}\n",
      "hide_agent miss_agent meet_agent,depart_patient bring_patient discover_patient serve_patient kill_patient,\n",
      "[12  5  7 10 28]\n",
      "[0.102119, 0.0745191, 0.0714265, 0.0627064, 0.0623904]\n",
      "\n",
      "\n",
      "{u'char': u'Mia', u'movie': u'Stan Helsing', u'id': u'/m/0gc3g1p', u'actor': u'Desi Lydic'}\n",
      "take_agent rebuff_agent,kiss_patient,\n",
      "[14  4  6 16 10]\n",
      "[0.121611, 0.072614, 0.0543056, 0.0519704, 0.0513428]\n",
      "\n",
      "\n",
      "{u'char': u'Lina Lamont', u'movie': u\"Singin' in the Rain\", u'id': u'/m/0k3b2r', u'actor': u'Jean Hagen'}\n",
      "flee_agent threaten_agent find_agent,convince_patient,lady_attribute\n",
      "[15 16  7  1 18]\n",
      "[0.128446, 0.0543487, 0.0513954, 0.0488828, 0.0443312]\n",
      "\n",
      "\n"
     ]
    }
   ],
   "source": [
    "for trope in selected:\n",
    "    print trope\n",
    "    for char in tropes[trope]:\n",
    "        print char\n",
    "        print words[char[\"id\"]]\n",
    "        traj_dict[char[\"id\"]] = [float(x) for x in traj_dict[char[\"id\"]]]\n",
    "        print np.argsort(traj_dict[char[\"id\"]])[-5:][::-1]\n",
    "        print sorted(traj_dict[char[\"id\"]])[-5:][::-1]\n",
    "        print \"\\n\""
   ]
  },
  {
   "cell_type": "code",
   "execution_count": null,
   "metadata": {
    "collapsed": true
   },
   "outputs": [],
   "source": [
    "for trope in selected:\n",
    "    print trope\n",
    "    for char in trope:\n",
    "        print "
   ]
  },
  {
   "cell_type": "code",
   "execution_count": 144,
   "metadata": {
    "collapsed": false
   },
   "outputs": [
    {
     "name": "stdout",
     "output_type": "stream",
     "text": [
      "['take_agent', 'locate_agent', 'investigate_agent', 'deduce_agent', 'assign_patient', 'defeat_agent', 'travel_agent', 'detective_attribute', 'private_attribute', 'promote_patient']\n"
     ]
    }
   ],
   "source": [
    "print descriptors[0]"
   ]
  },
  {
   "cell_type": "code",
   "execution_count": 145,
   "metadata": {
    "collapsed": false
   },
   "outputs": [
    {
     "data": {
      "text/plain": [
       "['state_agent',\n",
       " 'apologize_agent',\n",
       " 'assure_agent',\n",
       " 'surprised_attribute',\n",
       " 'remind_patient',\n",
       " 'surprise_patient',\n",
       " 'reassure_agent',\n",
       " 'decline_agent',\n",
       " 'admit_agent',\n",
       " 'annoy_patient']"
      ]
     },
     "execution_count": 145,
     "metadata": {},
     "output_type": "execute_result"
    }
   ],
   "source": [
    "descriptors[27]"
   ]
  },
  {
   "cell_type": "code",
   "execution_count": 146,
   "metadata": {
    "collapsed": false
   },
   "outputs": [
    {
     "data": {
      "text/plain": [
       "['pop_agent',\n",
       " 'bite_agent',\n",
       " 'chase_agent',\n",
       " 'slam_agent',\n",
       " 'grab_agent',\n",
       " 'launch_patient',\n",
       " 'knock_patient',\n",
       " 'impale_agent',\n",
       " 'tie_agent',\n",
       " 'crawl_agent']"
      ]
     },
     "execution_count": 146,
     "metadata": {},
     "output_type": "execute_result"
    }
   ],
   "source": [
    "descriptors[16]"
   ]
  },
  {
   "cell_type": "code",
   "execution_count": null,
   "metadata": {
    "collapsed": true
   },
   "outputs": [],
   "source": []
  }
 ],
 "metadata": {
  "kernelspec": {
   "display_name": "Python 2",
   "language": "python",
   "name": "python2"
  },
  "language_info": {
   "codemirror_mode": {
    "name": "ipython",
    "version": 2
   },
   "file_extension": ".py",
   "mimetype": "text/x-python",
   "name": "python",
   "nbconvert_exporter": "python",
   "pygments_lexer": "ipython2",
   "version": "2.7.6"
  }
 },
 "nbformat": 4,
 "nbformat_minor": 1
}
