{
 "cells": [
  {
   "cell_type": "code",
   "execution_count": 1,
   "metadata": {
    "collapsed": false
   },
   "outputs": [
    {
     "name": "stderr",
     "output_type": "stream",
     "text": [
      "Using gpu device 0: GRID K520 (CNMeM is disabled, cuDNN 4007)\n"
     ]
    }
   ],
   "source": [
    "import numpy as np\n",
    "import theano\n",
    "import theano.tensor as T"
   ]
  },
  {
   "cell_type": "code",
   "execution_count": 4,
   "metadata": {
    "collapsed": false
   },
   "outputs": [
    {
     "name": "stdout",
     "output_type": "stream",
     "text": [
      "[[[ 0.  0.  0.  0.]\n",
      "  [ 0.  0.  0.  0.]\n",
      "  [ 0.  0.  0.  0.]\n",
      "  [ 0.  0.  0.  0.]]\n",
      "\n",
      " [[ 1.  0.  0.  0.]\n",
      "  [ 0.  1.  0.  0.]\n",
      "  [ 0.  0.  1.  0.]\n",
      "  [ 0.  0.  0.  1.]]\n",
      "\n",
      " [[ 2.  0.  0.  0.]\n",
      "  [ 0.  2.  0.  0.]\n",
      "  [ 0.  0.  2.  0.]\n",
      "  [ 0.  0.  0.  2.]]]\n"
     ]
    }
   ],
   "source": [
    "a = np.array([[1, 2, 3, 4], [1, 2, 3, 4], [2, 3, 4, 4], [4, 5, 6, 4]])\n",
    "b = np.array([i * np.identity(4) for i in range(3)])\n",
    "print b"
   ]
  },
  {
   "cell_type": "code",
   "execution_count": 9,
   "metadata": {
    "collapsed": false
   },
   "outputs": [
    {
     "name": "stdout",
     "output_type": "stream",
     "text": [
      "[[  0.   0.   0.   0.]\n",
      " [  1.   2.   3.   4.]\n",
      " [  2.   4.   6.   8.]\n",
      " [  0.   0.   0.   0.]\n",
      " [  1.   2.   3.   4.]\n",
      " [  2.   4.   6.   8.]\n",
      " [  0.   0.   0.   0.]\n",
      " [  2.   3.   4.   4.]\n",
      " [  4.   6.   8.   8.]\n",
      " [  0.   0.   0.   0.]\n",
      " [  4.   5.   6.   4.]\n",
      " [  8.  10.  12.   8.]]\n"
     ]
    }
   ],
   "source": [
    "print np.einsum(\"ijk, xky->ijxy\", a[None, :, :], b)[0].reshape(12, 4)"
   ]
  },
  {
   "cell_type": "code",
   "execution_count": 84,
   "metadata": {
    "collapsed": false
   },
   "outputs": [],
   "source": [
    "embeddings_matrix = theano.shared(numpy.array([[1, 2, 3, 4], [1, 2, 3, 4], [2, 3, 4, 4], [4, 5, 6, 4]], dtype=theano.config.floatX))\n",
    "index_matrix = T.imatrix()\n",
    "r_index_matrix = T.imatrix()"
   ]
  },
  {
   "cell_type": "code",
   "execution_count": 121,
   "metadata": {
    "collapsed": false
   },
   "outputs": [
    {
     "name": "stdout",
     "output_type": "stream",
     "text": [
      "[[[ 0.  0.  0.  0.]\n",
      "  [ 0.  0.  0.  0.]\n",
      "  [ 0.  0.  0.  0.]\n",
      "  [ 0.  0.  0.  0.]]\n",
      "\n",
      " [[ 1.  0.  0.  0.]\n",
      "  [ 0.  1.  0.  0.]\n",
      "  [ 0.  0.  1.  0.]\n",
      "  [ 0.  0.  0.  1.]]\n",
      "\n",
      " [[ 2.  0.  0.  0.]\n",
      "  [ 0.  2.  0.  0.]\n",
      "  [ 0.  0.  2.  0.]\n",
      "  [ 0.  0.  0.  2.]]]\n"
     ]
    }
   ],
   "source": [
    "role = np.array([i * np.identity(4) for i in range(3)])\n",
    "print role"
   ]
  },
  {
   "cell_type": "code",
   "execution_count": 122,
   "metadata": {
    "collapsed": true
   },
   "outputs": [],
   "source": [
    "r_emb = theano.shared(numpy.array(role, dtype=theano.config.floatX)) "
   ]
  },
  {
   "cell_type": "code",
   "execution_count": 196,
   "metadata": {
    "collapsed": false
   },
   "outputs": [],
   "source": [
    "x = T.tensordot(embeddings_matrix[None, :, :], r_emb, axes=[[2], [1]]).flatten(4)#.flatten(1)"
   ]
  },
  {
   "cell_type": "code",
   "execution_count": 197,
   "metadata": {
    "collapsed": true
   },
   "outputs": [],
   "source": [
    "f = theano.function([], x)"
   ]
  },
  {
   "cell_type": "code",
   "execution_count": 198,
   "metadata": {
    "collapsed": true
   },
   "outputs": [],
   "source": [
    "output = f()"
   ]
  },
  {
   "cell_type": "code",
   "execution_count": 199,
   "metadata": {
    "collapsed": false
   },
   "outputs": [
    {
     "name": "stdout",
     "output_type": "stream",
     "text": [
      "[ 0.  0.  0.  0.]\n",
      "[ 1.  2.  3.  4.]\n",
      "[ 2.  4.  6.  8.]\n",
      "[ 0.  0.  0.  0.]\n",
      "[ 1.  2.  3.  4.]\n",
      "[ 2.  4.  6.  8.]\n",
      "[ 0.  0.  0.  0.]\n",
      "[ 2.  3.  4.  4.]\n",
      "[ 4.  6.  8.  8.]\n",
      "[ 0.  0.  0.  0.]\n",
      "[ 4.  5.  6.  4.]\n",
      "[  8.  10.  12.   8.]\n"
     ]
    }
   ],
   "source": [
    "test_e = [[1, 2, 3, 4], [1, 2, 3, 4], [2, 3, 4, 4], [4, 5, 6, 4]]\n",
    "for i in test_e:\n",
    "    for j in range(3):\n",
    "        print np.array(i).dot(role[j])"
   ]
  },
  {
   "cell_type": "code",
   "execution_count": 200,
   "metadata": {
    "collapsed": false
   },
   "outputs": [
    {
     "name": "stdout",
     "output_type": "stream",
     "text": [
      "[[[[  0.   0.   0.   0.]\n",
      "   [  1.   2.   3.   4.]\n",
      "   [  2.   4.   6.   8.]]\n",
      "\n",
      "  [[  0.   0.   0.   0.]\n",
      "   [  1.   2.   3.   4.]\n",
      "   [  2.   4.   6.   8.]]\n",
      "\n",
      "  [[  0.   0.   0.   0.]\n",
      "   [  2.   3.   4.   4.]\n",
      "   [  4.   6.   8.   8.]]\n",
      "\n",
      "  [[  0.   0.   0.   0.]\n",
      "   [  4.   5.   6.   4.]\n",
      "   [  8.  10.  12.   8.]]]]\n"
     ]
    }
   ],
   "source": [
    "print output"
   ]
  },
  {
   "cell_type": "code",
   "execution_count": 185,
   "metadata": {
    "collapsed": false
   },
   "outputs": [],
   "source": [
    "y = x[index_matrix * 3 + r_index_matrix]"
   ]
  },
  {
   "cell_type": "code",
   "execution_count": 138,
   "metadata": {
    "collapsed": false
   },
   "outputs": [
    {
     "ename": "SyntaxError",
     "evalue": "non-keyword arg after keyword arg (<ipython-input-138-30348642c33d>, line 1)",
     "output_type": "error",
     "traceback": [
      "\u001b[0;36m  File \u001b[0;32m\"<ipython-input-138-30348642c33d>\"\u001b[0;36m, line \u001b[0;32m1\u001b[0m\n\u001b[0;31m    f2 = theano.function(inputs=[index_matrix, r_index_matrix], y)\u001b[0m\n\u001b[0;31mSyntaxError\u001b[0m\u001b[0;31m:\u001b[0m non-keyword arg after keyword arg\n"
     ]
    }
   ],
   "source": [
    "f2 = theano.function(inputs=[index_matrix, r_index_matrix], y)"
   ]
  },
  {
   "cell_type": "code",
   "execution_count": 134,
   "metadata": {
    "collapsed": true
   },
   "outputs": [],
   "source": [
    "inp = [[1, 2]]"
   ]
  },
  {
   "cell_type": "code",
   "execution_count": 139,
   "metadata": {
    "collapsed": false
   },
   "outputs": [
    {
     "data": {
      "text/plain": [
       "4230"
      ]
     },
     "execution_count": 139,
     "metadata": {},
     "output_type": "execute_result"
    }
   ],
   "source": [
    "1410 * 3"
   ]
  },
  {
   "cell_type": "code",
   "execution_count": 135,
   "metadata": {
    "collapsed": false
   },
   "outputs": [
    {
     "ename": "TypeError",
     "evalue": "('Bad input argument to theano function with name \"<ipython-input-129-dd58058e82e3>:1\"  at index 0(0-based)', 'Wrong number of dimensions: expected 2, got 3 with shape (2, 1, 2).')",
     "output_type": "error",
     "traceback": [
      "\u001b[0;31m---------------------------------------------------------------------------\u001b[0m",
      "\u001b[0;31mTypeError\u001b[0m                                 Traceback (most recent call last)",
      "\u001b[0;32m<ipython-input-135-e3878c7766a4>\u001b[0m in \u001b[0;36m<module>\u001b[0;34m()\u001b[0m\n\u001b[0;32m----> 1\u001b[0;31m \u001b[0mout\u001b[0m \u001b[0;34m=\u001b[0m \u001b[0mf2\u001b[0m\u001b[0;34m(\u001b[0m\u001b[0mnumpy\u001b[0m\u001b[0;34m.\u001b[0m\u001b[0marray\u001b[0m\u001b[0;34m(\u001b[0m\u001b[0;34m[\u001b[0m\u001b[0minp\u001b[0m\u001b[0;34m,\u001b[0m \u001b[0minp\u001b[0m\u001b[0;34m]\u001b[0m\u001b[0;34m,\u001b[0m \u001b[0mdtype\u001b[0m\u001b[0;34m=\u001b[0m\u001b[0mnumpy\u001b[0m\u001b[0;34m.\u001b[0m\u001b[0mint32\u001b[0m\u001b[0;34m)\u001b[0m\u001b[0;34m)\u001b[0m\u001b[0;34m\u001b[0m\u001b[0m\n\u001b[0m",
      "\u001b[0;32m/usr/local/lib/python2.7/dist-packages/theano/compile/function_module.pyc\u001b[0m in \u001b[0;36m__call__\u001b[0;34m(self, *args, **kwargs)\u001b[0m\n\u001b[1;32m    784\u001b[0m                         s.storage[0] = s.type.filter(\n\u001b[1;32m    785\u001b[0m                             \u001b[0marg\u001b[0m\u001b[0;34m,\u001b[0m \u001b[0mstrict\u001b[0m\u001b[0;34m=\u001b[0m\u001b[0ms\u001b[0m\u001b[0;34m.\u001b[0m\u001b[0mstrict\u001b[0m\u001b[0;34m,\u001b[0m\u001b[0;34m\u001b[0m\u001b[0m\n\u001b[0;32m--> 786\u001b[0;31m                             allow_downcast=s.allow_downcast)\n\u001b[0m\u001b[1;32m    787\u001b[0m \u001b[0;34m\u001b[0m\u001b[0m\n\u001b[1;32m    788\u001b[0m                     \u001b[0;32mexcept\u001b[0m \u001b[0mException\u001b[0m \u001b[0;32mas\u001b[0m \u001b[0me\u001b[0m\u001b[0;34m:\u001b[0m\u001b[0;34m\u001b[0m\u001b[0m\n",
      "\u001b[0;32m/usr/local/lib/python2.7/dist-packages/theano/tensor/type.pyc\u001b[0m in \u001b[0;36mfilter\u001b[0;34m(self, data, strict, allow_downcast)\u001b[0m\n\u001b[1;32m    175\u001b[0m             raise TypeError(\"Wrong number of dimensions: expected %s,\"\n\u001b[1;32m    176\u001b[0m                             \" got %s with shape %s.\" % (self.ndim, data.ndim,\n\u001b[0;32m--> 177\u001b[0;31m                                                         data.shape))\n\u001b[0m\u001b[1;32m    178\u001b[0m         \u001b[0;32mif\u001b[0m \u001b[0;32mnot\u001b[0m \u001b[0mdata\u001b[0m\u001b[0;34m.\u001b[0m\u001b[0mflags\u001b[0m\u001b[0;34m.\u001b[0m\u001b[0maligned\u001b[0m\u001b[0;34m:\u001b[0m\u001b[0;34m\u001b[0m\u001b[0m\n\u001b[1;32m    179\u001b[0m             \u001b[0;32mtry\u001b[0m\u001b[0;34m:\u001b[0m\u001b[0;34m\u001b[0m\u001b[0m\n",
      "\u001b[0;31mTypeError\u001b[0m: ('Bad input argument to theano function with name \"<ipython-input-129-dd58058e82e3>:1\"  at index 0(0-based)', 'Wrong number of dimensions: expected 2, got 3 with shape (2, 1, 2).')"
     ]
    }
   ],
   "source": [
    "out = f2(numpy.array([inp, inp], dtype=numpy.int32))"
   ]
  },
  {
   "cell_type": "code",
   "execution_count": 136,
   "metadata": {
    "collapsed": false
   },
   "outputs": [
    {
     "ename": "SyntaxError",
     "evalue": "non-keyword arg after keyword arg (<ipython-input-136-210c1bda78a8>, line 2)",
     "output_type": "error",
     "traceback": [
      "\u001b[0;36m  File \u001b[0;32m\"<ipython-input-136-210c1bda78a8>\"\u001b[0;36m, line \u001b[0;32m2\u001b[0m\n\u001b[0;31m    f3 = theano.function(inputs=[r_ind, index_matrix], x * y)\u001b[0m\n\u001b[0;31mSyntaxError\u001b[0m\u001b[0;31m:\u001b[0m non-keyword arg after keyword arg\n"
     ]
    }
   ],
   "source": [
    "xx = embeddings_matrix[index_matrix] * r_emb[r_ind]\n",
    "f3 = theano.function(inputs=[r_ind, index_matrix], x * y)"
   ]
  },
  {
   "cell_type": "code",
   "execution_count": 137,
   "metadata": {
    "collapsed": false
   },
   "outputs": [
    {
     "name": "stdout",
     "output_type": "stream",
     "text": [
      "(False, False)\n"
     ]
    }
   ],
   "source": [
    "print x.broadcastable"
   ]
  },
  {
   "cell_type": "code",
   "execution_count": 41,
   "metadata": {
    "collapsed": false
   },
   "outputs": [
    {
     "name": "stdout",
     "output_type": "stream",
     "text": [
      "(False, False, False)\n"
     ]
    }
   ],
   "source": [
    "print y.broadcastable"
   ]
  },
  {
   "cell_type": "code",
   "execution_count": 43,
   "metadata": {
    "collapsed": false
   },
   "outputs": [],
   "source": [
    "\n",
    "out = f([[0, 0], [1, 1]])\n",
    "out2 = f2([[0, 0], [1, 2]])\n",
    "z = T.dot(y[:, :, :, None], x)\n",
    "f3 = theano.function([r_ind, index_matrix], z)"
   ]
  },
  {
   "cell_type": "code",
   "execution_count": 47,
   "metadata": {
    "collapsed": false
   },
   "outputs": [
    {
     "name": "stdout",
     "output_type": "stream",
     "text": [
      "(False, False, False, False, False, False)\n"
     ]
    }
   ],
   "source": [
    "print z.broadcastable"
   ]
  },
  {
   "cell_type": "code",
   "execution_count": 48,
   "metadata": {
    "collapsed": false
   },
   "outputs": [
    {
     "ename": "TypeError",
     "evalue": "Missing required input: <TensorType(int32, matrix)>",
     "output_type": "error",
     "traceback": [
      "\u001b[0;31m---------------------------------------------------------------------------\u001b[0m",
      "\u001b[0;31mTypeError\u001b[0m                                 Traceback (most recent call last)",
      "\u001b[0;32m<ipython-input-48-f41c9ae15694>\u001b[0m in \u001b[0;36m<module>\u001b[0;34m()\u001b[0m\n\u001b[0;32m----> 1\u001b[0;31m \u001b[0mout3\u001b[0m \u001b[0;34m=\u001b[0m \u001b[0mf3\u001b[0m\u001b[0;34m(\u001b[0m\u001b[0;34m[\u001b[0m\u001b[0;34m[\u001b[0m\u001b[0;36m0\u001b[0m\u001b[0;34m,\u001b[0m \u001b[0;36m0\u001b[0m\u001b[0;34m]\u001b[0m\u001b[0;34m,\u001b[0m \u001b[0;34m[\u001b[0m\u001b[0;36m1\u001b[0m\u001b[0;34m,\u001b[0m \u001b[0;36m1\u001b[0m\u001b[0;34m]\u001b[0m\u001b[0;34m]\u001b[0m\u001b[0;34m)\u001b[0m\u001b[0;34m\u001b[0m\u001b[0m\n\u001b[0m",
      "\u001b[0;32m/usr/local/lib/python2.7/dist-packages/theano/compile/function_module.pyc\u001b[0m in \u001b[0;36m__call__\u001b[0;34m(self, *args, **kwargs)\u001b[0m\n\u001b[1;32m    843\u001b[0m                     raise TypeError(\"Missing required input: %s\" %\n\u001b[1;32m    844\u001b[0m                                     getattr(self.inv_finder[c], 'variable',\n\u001b[0;32m--> 845\u001b[0;31m                                             self.inv_finder[c]))\n\u001b[0m\u001b[1;32m    846\u001b[0m                 \u001b[0;32mif\u001b[0m \u001b[0mc\u001b[0m\u001b[0;34m.\u001b[0m\u001b[0mprovided\u001b[0m \u001b[0;34m>\u001b[0m \u001b[0;36m1\u001b[0m\u001b[0;34m:\u001b[0m\u001b[0;34m\u001b[0m\u001b[0m\n\u001b[1;32m    847\u001b[0m                     raise TypeError(\"Multiple values for input: %s\" %\n",
      "\u001b[0;31mTypeError\u001b[0m: Missing required input: <TensorType(int32, matrix)>"
     ]
    }
   ],
   "source": [
    "out3 = f3([[0, 0], [1, 1]])"
   ]
  },
  {
   "cell_type": "code",
   "execution_count": null,
   "metadata": {
    "collapsed": true
   },
   "outputs": [],
   "source": []
  }
 ],
 "metadata": {
  "kernelspec": {
   "display_name": "Python 2",
   "language": "python",
   "name": "python2"
  },
  "language_info": {
   "codemirror_mode": {
    "name": "ipython",
    "version": 2
   },
   "file_extension": ".py",
   "mimetype": "text/x-python",
   "name": "python",
   "nbconvert_exporter": "python",
   "pygments_lexer": "ipython2",
   "version": "2.7.6"
  }
 },
 "nbformat": 4,
 "nbformat_minor": 1
}
